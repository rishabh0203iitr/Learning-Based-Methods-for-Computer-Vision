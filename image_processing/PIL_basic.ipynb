{
 "cells": [
  {
   "cell_type": "code",
   "execution_count": null,
   "metadata": {},
   "outputs": [],
   "source": [
    "from PIL import Image\n",
    "\n",
    "im = Image.open(\"./samples/dog.jpg\")\n",
    "w, h = im.size\n",
    "print('Original image size: %sx%s' % (w, h))\n",
    "print('Image mode is: %s' % im.mode)\n",
    "\n",
    "import IPython.display\n",
    "listOfImageNames = ['./samples/dog.jpg']\n",
    "\n",
    "for imageName in listOfImageNames:\n",
    "    IPython.display.display(IPython.display.Image(filename=imageName))"
   ]
  },
  {
   "cell_type": "code",
   "execution_count": null,
   "metadata": {},
   "outputs": [],
   "source": [
    "out_hf = im.transpose(Image.FLIP_LEFT_RIGHT)\n",
    "out_vf = im.transpose(Image.FLIP_TOP_BOTTOM)\n",
    "out_hf.save(\"./outputs/dog_hf.jpg\")\n",
    "out_vf.save(\"./outputs/dog_vf.jpg\")\n",
    "box = (0, 0, 100, 100)\n",
    "region = im.crop(box)\n",
    "region.save(\"./outputs/dog_crop.jpg\")\n",
    "\n",
    "import IPython.display\n",
    "listOfImageNames = ['./outputs/dog_hf.jpg',\n",
    "                    './outputs/dog_vf.jpg',\n",
    "                    './outputs/dog_crop.jpg']\n",
    "\n",
    "for imageName in listOfImageNames:\n",
    "    IPython.display.display(IPython.display.Image(filename=imageName))"
   ]
  },
  {
   "cell_type": "code",
   "execution_count": null,
   "metadata": {},
   "outputs": [],
   "source": [
    "import numpy as np\n",
    "\n",
    "region_np = np.array(region)\n",
    "print('Data type is:', region_np.dtype)\n",
    "w, h, c = region_np.shape\n",
    "print('Original image size: %sx%sx%s' % (w, h, c))\n",
    "region_np[0:20, 0:20] = np.array([0, 0, 255])\n",
    "region_new = Image.fromarray(np.uint8(region_np))\n",
    "region_new.save(\"./outputs/dog_crop_new.jpg\")\n",
    "\n",
    "import IPython.display\n",
    "listOfImageNames = [\"./outputs/dog_crop_new.jpg\"]\n",
    "\n",
    "for imageName in listOfImageNames:\n",
    "    IPython.display.display(IPython.display.Image(filename=imageName))"
   ]
  },
  {
   "cell_type": "code",
   "execution_count": null,
   "metadata": {},
   "outputs": [],
   "source": [
    "im = Image.open('./samples/peppers.jpg')\n",
    "w, h = im.size\n",
    "print('Original image size: %sx%s' % (w, h))\n",
    "up_factor = 2\n",
    "im_up_nn = im.resize((w*up_factor, h*up_factor), resample=Image.NEAREST)\n",
    "im_up_bl = im.resize((w*up_factor, h*up_factor), resample=Image.BILINEAR)\n",
    "im_up_bc = im.resize((w*up_factor, h*up_factor), resample=Image.BICUBIC)\n",
    "w, h = im_up_nn.size\n",
    "print('Upsampled image size: %sx%s' % (w, h))\n",
    "im_up_nn.save('./outputs/peppers_up_nn.jpg')\n",
    "im_up_bl.save('./outputs/peppers_up_bl.jpg')\n",
    "im_up_bc.save('./outputs/peppers_up_bc.jpg')\n",
    "\n",
    "import IPython.display\n",
    "listOfImageNames = ['./outputs/peppers_up_nn.jpg',\n",
    "                    './outputs/peppers_up_bl.jpg',\n",
    "                    './outputs/peppers_up_bc.jpg']\n",
    "\n",
    "for imageName in listOfImageNames:\n",
    "    IPython.display.display(IPython.display.Image(filename=imageName))"
   ]
  },
  {
   "cell_type": "code",
   "execution_count": null,
   "metadata": {},
   "outputs": [],
   "source": [
    "im = Image.open('./samples/peppers.jpg')\n",
    "w, h = im.size\n",
    "print('Original image size: %sx%s' % (w, h))\n",
    "down_factor = 2\n",
    "im_up_nn = im.resize((w//down_factor, h//down_factor), resample=Image.NEAREST)\n",
    "im_up_bl = im.resize((w//down_factor, h//down_factor), resample=Image.BILINEAR)\n",
    "im_up_bc = im.resize((w//down_factor, h//down_factor), resample=Image.BICUBIC)\n",
    "w, h = im_up_nn.size\n",
    "print('Downsampled image size: %sx%s' % (w, h))\n",
    "im_up_nn.save('./outputs/peppers_down_nn.jpg')\n",
    "im_up_bl.save('./outputs/peppers_down_bl.jpg')\n",
    "im_up_bc.save('./outputs/peppers_down_bc.jpg')\n",
    "\n",
    "import IPython.display\n",
    "listOfImageNames = ['./outputs/peppers_down_nn.jpg',\n",
    "                    './outputs/peppers_down_bl.jpg',\n",
    "                    './outputs/peppers_down_bc.jpg']\n",
    "\n",
    "for imageName in listOfImageNames:\n",
    "    IPython.display.display(IPython.display.Image(filename=imageName))"
   ]
  },
  {
   "cell_type": "code",
   "execution_count": null,
   "metadata": {},
   "outputs": [],
   "source": [
    "import numpy as np\n",
    "from PIL import Image\n",
    "from PIL import ImageFilter\n",
    "im = Image.open('./samples/peppers.jpg')\n",
    "w, h = im.size\n",
    "print('Original image size: %sx%s' % (w, h))\n",
    "im_gaussian = im.filter(ImageFilter.GaussianBlur(radius=5))\n",
    "im_rotated = im.rotate(30, expand=0)\n",
    "im_np = np.array(im).astype(np.float32)\n",
    "im_np[:, :, 0] = np.clip(im_np[:, :, 0] * 0.6, 0, 255)\n",
    "im_jittered = Image.fromarray(np.uint8(im_np))\n",
    "im_gaussian.save('./outputs/peppers_gaussian.jpg')\n",
    "im_rotated.save('./outputs/peppers_rotated.jpg')\n",
    "im_jittered.save('./outputs/peppers_jittered.jpg')\n",
    "\n",
    "import IPython.display\n",
    "listOfImageNames = ['./outputs/peppers_gaussian.jpg',\n",
    "                    './outputs/peppers_rotated.jpg',\n",
    "                    './outputs/peppers_jittered.jpg']\n",
    "\n",
    "for imageName in listOfImageNames:\n",
    "    IPython.display.display(IPython.display.Image(filename=imageName))"
   ]
  },
  {
   "cell_type": "code",
   "execution_count": null,
   "metadata": {},
   "outputs": [],
   "source": []
  }
 ],
 "metadata": {
  "kernelspec": {
   "display_name": "Python 3 (ipykernel)",
   "language": "python",
   "name": "python3"
  },
  "language_info": {
   "codemirror_mode": {
    "name": "ipython",
    "version": 3
   },
   "file_extension": ".py",
   "mimetype": "text/x-python",
   "name": "python",
   "nbconvert_exporter": "python",
   "pygments_lexer": "ipython3",
   "version": "3.12.4"
  }
 },
 "nbformat": 4,
 "nbformat_minor": 4
}
