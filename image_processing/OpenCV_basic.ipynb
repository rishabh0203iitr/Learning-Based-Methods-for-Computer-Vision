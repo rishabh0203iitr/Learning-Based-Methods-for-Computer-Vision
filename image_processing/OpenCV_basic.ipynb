{
 "cells": [
  {
   "cell_type": "code",
   "execution_count": null,
   "metadata": {},
   "outputs": [],
   "source": [
    "import cv2\n",
    "import numpy as np\n",
    "\n",
    "# Part I: Basic image IO and manipulation\n",
    "im = cv2.imread(\"./samples/dog.jpg\")\n",
    "h, w, c = im.shape\n",
    "print('Original image size: %sx%s' % (w, h))\n",
    "\n",
    "import IPython.display\n",
    "listOfImageNames = ['./samples/dog.jpg']\n",
    "\n",
    "for imageName in listOfImageNames:\n",
    "    IPython.display.display(IPython.display.Image(filename=imageName))"
   ]
  },
  {
   "cell_type": "code",
   "execution_count": null,
   "metadata": {},
   "outputs": [],
   "source": [
    "out_hf = cv2.flip(im, 1)\n",
    "out_vf = cv2.flip(im, 0)\n",
    "cv2.imwrite(\"./outputs/dog_hf.jpg\", out_hf)\n",
    "cv2.imwrite(\"./outputs/dog_vf.jpg\", out_vf)\n",
    "region = im[0:100, 0:100]\n",
    "cv2.imwrite(\"./outputs/dog_crop.jpg\", region)\n",
    "\n",
    "import IPython.display\n",
    "listOfImageNames = ['./outputs/dog_hf.jpg',\n",
    "                    './outputs/dog_vf.jpg',\n",
    "                    './outputs/dog_crop.jpg']\n",
    "\n",
    "for imageName in listOfImageNames:\n",
    "    IPython.display.display(IPython.display.Image(filename=imageName))"
   ]
  },
  {
   "cell_type": "code",
   "execution_count": null,
   "metadata": {},
   "outputs": [],
   "source": [
    "print('Data type is:', region.dtype)\n",
    "h, w, c = region.shape\n",
    "print('Original image size: %sx%sx%s' % (w, h, c))\n",
    "region[0:20, 0:20] = np.array([255, 0, 0])\n",
    "cv2.imwrite(\"./outputs/dog_crop_new.jpg\", region)\n",
    "\n",
    "import IPython.display\n",
    "listOfImageNames = [\"./outputs/dog_crop_new.jpg\"]\n",
    "\n",
    "for imageName in listOfImageNames:\n",
    "    IPython.display.display(IPython.display.Image(filename=imageName))"
   ]
  },
  {
   "cell_type": "code",
   "execution_count": null,
   "metadata": {},
   "outputs": [],
   "source": [
    "# Part II: Image Resampling\n",
    "im = cv2.imread(\"./samples/peppers.jpg\")\n",
    "h, w, c = im.shape\n",
    "print('Original image size: %sx%s' % (w, h))\n",
    "up_factor = 2\n",
    "im_up_nn = cv2.resize(im, (up_factor*w, up_factor*h), interpolation = cv2.INTER_NEAREST)\n",
    "im_up_bl = cv2.resize(im, (up_factor*w, up_factor*h), interpolation = cv2.INTER_LINEAR)\n",
    "im_up_bc = cv2.resize(im, (up_factor*w, up_factor*h), interpolation = cv2.INTER_CUBIC)\n",
    "h, w, c = im_up_nn.shape\n",
    "print('Upsampled image size: %sx%s' % (w, h))\n",
    "cv2.imwrite(\"./outputs/peppers_up_nn.jpg\", im_up_nn)\n",
    "cv2.imwrite(\"./outputs/peppers_up_bl.jpg\", im_up_bl)\n",
    "cv2.imwrite(\"./outputs/peppers_up_bc.jpg\", im_up_bc)\n",
    "\n",
    "import IPython.display\n",
    "listOfImageNames = ['./outputs/peppers_up_nn.jpg',\n",
    "                    './outputs/peppers_up_bl.jpg',\n",
    "                   './outputs/peppers_up_bc.jpg']\n",
    "\n",
    "for imageName in listOfImageNames:\n",
    "    IPython.display.display(IPython.display.Image(filename=imageName))"
   ]
  },
  {
   "cell_type": "code",
   "execution_count": null,
   "metadata": {},
   "outputs": [],
   "source": [
    "im = cv2.imread(\"./samples/peppers.jpg\")\n",
    "h, w, c = im.shape\n",
    "print('Original image size: %sx%s' % (w, h))\n",
    "down_factor = 2\n",
    "im_down_nn = cv2.resize(im, (w//down_factor, h//down_factor), interpolation = cv2.INTER_NEAREST)\n",
    "im_down_bl = cv2.resize(im, (w//down_factor, h//down_factor), interpolation = cv2.INTER_LINEAR)\n",
    "im_down_bc = cv2.resize(im, (w//down_factor, h//down_factor), interpolation = cv2.INTER_CUBIC)\n",
    "h, w, c = im_down_nn.shape\n",
    "print('Downsampled image size: %sx%s' % (w, h))\n",
    "cv2.imwrite(\"./outputs/peppers_down_nn.jpg\", im_down_nn)\n",
    "cv2.imwrite(\"./outputs/peppers_down_bl.jpg\", im_down_bl)\n",
    "cv2.imwrite(\"./outputs/peppers_down_bc.jpg\", im_down_bc)\n",
    "\n",
    "import IPython.display\n",
    "listOfImageNames = ['./outputs/peppers_down_nn.jpg',\n",
    "                    './outputs/peppers_down_bl.jpg',\n",
    "                   './outputs/peppers_down_bc.jpg']\n",
    "\n",
    "for imageName in listOfImageNames:\n",
    "    IPython.display.display(IPython.display.Image(filename=imageName))"
   ]
  },
  {
   "cell_type": "code",
   "execution_count": null,
   "metadata": {},
   "outputs": [],
   "source": [
    "# Part II: Image Transforms\n",
    "import numpy as np\n",
    "im = cv2.imread(\"./samples/peppers.jpg\")\n",
    "h, w, c = im.shape\n",
    "print('Original image size: %sx%s' % (w, h))\n",
    "\n",
    "im_gaussian = cv2.GaussianBlur(im, (9, 9), 0)\n",
    "image_center = tuple(np.array(im.shape[1::-1]) / 2)\n",
    "rot_mat = cv2.getRotationMatrix2D(image_center, 30, 1.0)\n",
    "im_rotated = cv2.warpAffine(im, rot_mat, im.shape[1::-1], flags=cv2.INTER_LINEAR)\n",
    "im_float = im.astype(np.float32)\n",
    "im_float[:, :, 2] = np.clip(im_float[:, :, 2] * 0.6, 0, 255)\n",
    "im_jittered = im_float.astype(np.uint8)\n",
    "cv2.imwrite(\"./outputs/peppers_gaussian.jpg\", im_gaussian)\n",
    "cv2.imwrite(\"./outputs/peppers_rotated_0.jpg\", im_rotated)\n",
    "cv2.imwrite(\"./outputs/peppers_jittered.jpg\", im_jittered)\n",
    "\n",
    "import IPython.display\n",
    "listOfImageNames = ['./outputs/peppers_gaussian.jpg',\n",
    "                    './outputs/peppers_rotated_0.jpg', \n",
    "                    './outputs/peppers_jittered.jpg']\n",
    "\n",
    "for imageName in listOfImageNames:\n",
    "    IPython.display.display(IPython.display.Image(filename=imageName))"
   ]
  },
  {
   "cell_type": "code",
   "execution_count": null,
   "metadata": {},
   "outputs": [],
   "source": []
  }
 ],
 "metadata": {
  "kernelspec": {
   "display_name": "Python 3 (ipykernel)",
   "language": "python",
   "name": "python3"
  },
  "language_info": {
   "codemirror_mode": {
    "name": "ipython",
    "version": 3
   },
   "file_extension": ".py",
   "mimetype": "text/x-python",
   "name": "python",
   "nbconvert_exporter": "python",
   "pygments_lexer": "ipython3",
   "version": "3.12.4"
  }
 },
 "nbformat": 4,
 "nbformat_minor": 4
}
